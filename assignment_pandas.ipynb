{
 "cells": [
  {
   "cell_type": "markdown",
   "metadata": {},
   "source": [
    "## Датасет собран из базы данных переписи 1994 года и содержит данные о доходах.\n",
    "### Информация о данных:\n",
    "* age: continuous.\n",
    "* workclass: Private, Self-emp-not-inc, Self-emp-inc, Federal-gov, Local-gov, State-gov, Without-pay, Never-worked.\n",
    "* fnlwgt: continuous.\n",
    "* education: Bachelors, Some-college, 11th, HS-grad, Prof-school, Assoc-acdm, Assoc-voc, 9th, 7th-8th, 12th, * Masters, 1st-4th, 10th, Doctorate, 5th-6th, Preschool.\n",
    "* education-num: continuous.\n",
    "* marital-status: Married-civ-spouse, Divorced, Never-married, Separated, Widowed, Married-spouse-absent, Married-AF-spouse.\n",
    "* occupation: Tech-support, Craft-repair, Other-service, Sales, Exec-managerial, Prof-specialty, Handlers-cleaners, Machine-op-inspct, Adm-clerical, Farming-fishing, Transport-moving, Priv-house-serv, Protective-serv, Armed-Forces.\n",
    "* relationship: Wife, Own-child, Husband, Not-in-family, Other-relative, Unmarried.\n",
    "* race: White, Asian-Pac-Islander, Amer-Indian-Eskimo, Other, Black.\n",
    "* sex: Female, Male.\n",
    "* capital-gain: continuous.\n",
    "* capital-loss: continuous.\n",
    "* hours-per-week: continuous.\n",
    "* native-country: United-States, Cambodia, England, Puerto-Rico, Canada, Germany, Outlying-US(Guam-USVI-etc), India, Japan, Greece, South, China, Cuba, Iran, Honduras, Philippines, Italy, Poland, Jamaica, Vietnam, Mexico, Portugal, Ireland, France, Dominican-Republic, Laos, Ecuador, Taiwan, Haiti, Columbia, Hungary, Guatemala, Nicaragua, Scotland, Thailand, Yugoslavia, El-Salvador, Trinadad&Tobago, Peru, Hong, Holand-Netherlands.\n",
    "* salary: >50K,<=50K\n",
    "\n",
    "## Проведите анализ данных при помощи Pandas выполнив поставленные задачи.\n",
    "#### "
   ]
  },
  {
   "cell_type": "code",
   "execution_count": 240,
   "metadata": {},
   "outputs": [],
   "source": [
    "import pandas as pd"
   ]
  },
  {
   "cell_type": "code",
   "execution_count": 241,
   "metadata": {},
   "outputs": [
    {
     "data": {
      "text/plain": "   age         workclass  fnlwgt  education  education-num  \\\n0   39         State-gov   77516  Bachelors             13   \n1   50  Self-emp-not-inc   83311  Bachelors             13   \n2   38           Private  215646    HS-grad              9   \n3   53           Private  234721       11th              7   \n4   28           Private  338409  Bachelors             13   \n\n       marital-status         occupation   relationship   race     sex  \\\n0       Never-married       Adm-clerical  Not-in-family  White    Male   \n1  Married-civ-spouse    Exec-managerial        Husband  White    Male   \n2            Divorced  Handlers-cleaners  Not-in-family  White    Male   \n3  Married-civ-spouse  Handlers-cleaners        Husband  Black    Male   \n4  Married-civ-spouse     Prof-specialty           Wife  Black  Female   \n\n   capital-gain  capital-loss  hours-per-week native-country salary  \n0          2174             0              40  United-States  <=50K  \n1             0             0              13  United-States  <=50K  \n2             0             0              40  United-States  <=50K  \n3             0             0              40  United-States  <=50K  \n4             0             0              40           Cuba  <=50K  ",
      "text/html": "<div>\n<style scoped>\n    .dataframe tbody tr th:only-of-type {\n        vertical-align: middle;\n    }\n\n    .dataframe tbody tr th {\n        vertical-align: top;\n    }\n\n    .dataframe thead th {\n        text-align: right;\n    }\n</style>\n<table border=\"1\" class=\"dataframe\">\n  <thead>\n    <tr style=\"text-align: right;\">\n      <th></th>\n      <th>age</th>\n      <th>workclass</th>\n      <th>fnlwgt</th>\n      <th>education</th>\n      <th>education-num</th>\n      <th>marital-status</th>\n      <th>occupation</th>\n      <th>relationship</th>\n      <th>race</th>\n      <th>sex</th>\n      <th>capital-gain</th>\n      <th>capital-loss</th>\n      <th>hours-per-week</th>\n      <th>native-country</th>\n      <th>salary</th>\n    </tr>\n  </thead>\n  <tbody>\n    <tr>\n      <th>0</th>\n      <td>39</td>\n      <td>State-gov</td>\n      <td>77516</td>\n      <td>Bachelors</td>\n      <td>13</td>\n      <td>Never-married</td>\n      <td>Adm-clerical</td>\n      <td>Not-in-family</td>\n      <td>White</td>\n      <td>Male</td>\n      <td>2174</td>\n      <td>0</td>\n      <td>40</td>\n      <td>United-States</td>\n      <td>&lt;=50K</td>\n    </tr>\n    <tr>\n      <th>1</th>\n      <td>50</td>\n      <td>Self-emp-not-inc</td>\n      <td>83311</td>\n      <td>Bachelors</td>\n      <td>13</td>\n      <td>Married-civ-spouse</td>\n      <td>Exec-managerial</td>\n      <td>Husband</td>\n      <td>White</td>\n      <td>Male</td>\n      <td>0</td>\n      <td>0</td>\n      <td>13</td>\n      <td>United-States</td>\n      <td>&lt;=50K</td>\n    </tr>\n    <tr>\n      <th>2</th>\n      <td>38</td>\n      <td>Private</td>\n      <td>215646</td>\n      <td>HS-grad</td>\n      <td>9</td>\n      <td>Divorced</td>\n      <td>Handlers-cleaners</td>\n      <td>Not-in-family</td>\n      <td>White</td>\n      <td>Male</td>\n      <td>0</td>\n      <td>0</td>\n      <td>40</td>\n      <td>United-States</td>\n      <td>&lt;=50K</td>\n    </tr>\n    <tr>\n      <th>3</th>\n      <td>53</td>\n      <td>Private</td>\n      <td>234721</td>\n      <td>11th</td>\n      <td>7</td>\n      <td>Married-civ-spouse</td>\n      <td>Handlers-cleaners</td>\n      <td>Husband</td>\n      <td>Black</td>\n      <td>Male</td>\n      <td>0</td>\n      <td>0</td>\n      <td>40</td>\n      <td>United-States</td>\n      <td>&lt;=50K</td>\n    </tr>\n    <tr>\n      <th>4</th>\n      <td>28</td>\n      <td>Private</td>\n      <td>338409</td>\n      <td>Bachelors</td>\n      <td>13</td>\n      <td>Married-civ-spouse</td>\n      <td>Prof-specialty</td>\n      <td>Wife</td>\n      <td>Black</td>\n      <td>Female</td>\n      <td>0</td>\n      <td>0</td>\n      <td>40</td>\n      <td>Cuba</td>\n      <td>&lt;=50K</td>\n    </tr>\n  </tbody>\n</table>\n</div>"
     },
     "execution_count": 241,
     "metadata": {},
     "output_type": "execute_result"
    }
   ],
   "source": [
    "# загружаем датасет\n",
    "data = pd.read_csv(\"./data/adult.data.csv\")\n",
    "data.head()"
   ]
  },
  {
   "cell_type": "code",
   "execution_count": 242,
   "outputs": [
    {
     "name": "stdout",
     "output_type": "stream",
     "text": [
      "<class 'pandas.core.frame.DataFrame'>\n",
      "Int64Index: 32537 entries, 0 to 32560\n",
      "Data columns (total 15 columns):\n",
      " #   Column          Non-Null Count  Dtype \n",
      "---  ------          --------------  ----- \n",
      " 0   age             32537 non-null  int64 \n",
      " 1   workclass       32537 non-null  object\n",
      " 2   fnlwgt          32537 non-null  int64 \n",
      " 3   education       32537 non-null  object\n",
      " 4   education-num   32537 non-null  int64 \n",
      " 5   marital-status  32537 non-null  object\n",
      " 6   occupation      32537 non-null  object\n",
      " 7   relationship    32537 non-null  object\n",
      " 8   race            32537 non-null  object\n",
      " 9   sex             32537 non-null  object\n",
      " 10  capital-gain    32537 non-null  int64 \n",
      " 11  capital-loss    32537 non-null  int64 \n",
      " 12  hours-per-week  32537 non-null  int64 \n",
      " 13  native-country  32537 non-null  object\n",
      " 14  salary          32537 non-null  object\n",
      "dtypes: int64(6), object(9)\n",
      "memory usage: 4.0+ MB\n"
     ]
    }
   ],
   "source": [
    "data.drop_duplicates(inplace=True)\n",
    "data.info()"
   ],
   "metadata": {
    "collapsed": false
   }
  },
  {
   "cell_type": "markdown",
   "metadata": {},
   "source": [
    "**1. Посчитайте, сколько мужчин и женщин (признак *sex*) представлено в этом датасете**"
   ]
  },
  {
   "cell_type": "code",
   "execution_count": 243,
   "outputs": [
    {
     "data": {
      "text/plain": "array(['Male', 'Female'], dtype=object)"
     },
     "execution_count": 243,
     "metadata": {},
     "output_type": "execute_result"
    }
   ],
   "source": [
    "data.sex.unique()"
   ],
   "metadata": {
    "collapsed": false
   }
  },
  {
   "cell_type": "code",
   "execution_count": 244,
   "metadata": {},
   "outputs": [
    {
     "data": {
      "text/plain": "32537"
     },
     "execution_count": 244,
     "metadata": {},
     "output_type": "execute_result"
    }
   ],
   "source": [
    "len(data)"
   ]
  },
  {
   "cell_type": "markdown",
   "metadata": {},
   "source": [
    "**2. Каков средний возраст мужчин (признак *age*) по всему датасету?**"
   ]
  },
  {
   "cell_type": "code",
   "execution_count": 245,
   "metadata": {},
   "outputs": [
    {
     "data": {
      "text/plain": "39.43605051664753"
     },
     "execution_count": 245,
     "metadata": {},
     "output_type": "execute_result"
    }
   ],
   "source": [
    "data.age[data.sex == 'Male'].mean()"
   ]
  },
  {
   "cell_type": "markdown",
   "metadata": {},
   "source": [
    "**3. Какова доля граждан Соединенных Штатов (признак *native-country*)?**"
   ]
  },
  {
   "cell_type": "code",
   "execution_count": 246,
   "metadata": {},
   "outputs": [
    {
     "data": {
      "text/plain": "89.59953283953654"
     },
     "execution_count": 246,
     "metadata": {},
     "output_type": "execute_result"
    }
   ],
   "source": [
    "len(data[data['native-country'] == 'United-States'])/len(data)*100"
   ]
  },
  {
   "cell_type": "markdown",
   "metadata": {},
   "source": [
    "**4-5. Рассчитайте среднее значение и среднеквадратичное отклонение возраста тех, кто получает более 50K в год (признак *salary*) и тех, кто получает менее 50K в год**"
   ]
  },
  {
   "cell_type": "code",
   "execution_count": 247,
   "metadata": {},
   "outputs": [
    {
     "name": "stdout",
     "output_type": "stream",
     "text": [
      "44.25092486286516\n",
      "10.520102088156465\n"
     ]
    }
   ],
   "source": [
    "mean, std = data.age[data.salary == '>50K'].agg(['mean', 'std'])\n",
    "print(mean)\n",
    "print(std)"
   ]
  },
  {
   "cell_type": "code",
   "execution_count": 248,
   "outputs": [
    {
     "name": "stdout",
     "output_type": "stream",
     "text": [
      "36.78739169163495\n",
      "14.017334627959265\n"
     ]
    }
   ],
   "source": [
    "mean, std = data.age[data.salary == '<=50K'].agg(['mean', 'std'])\n",
    "print(mean)\n",
    "print(std)"
   ],
   "metadata": {
    "collapsed": false
   }
  },
  {
   "cell_type": "markdown",
   "metadata": {},
   "source": [
    "**6. Правда ли, что люди, которые получают больше 50k, имеют минимум высшее образование? (признак *education – Bachelors, Prof-school, Assoc-acdm, Assoc-voc, Masters* или *Doctorate*)**"
   ]
  },
  {
   "cell_type": "code",
   "execution_count": 249,
   "metadata": {},
   "outputs": [
    {
     "data": {
      "text/plain": "False"
     },
     "execution_count": 249,
     "metadata": {},
     "output_type": "execute_result"
    }
   ],
   "source": [
    "high_edu = set(['Bachelors', 'Prof-school', 'Assoc-acdm', 'Assoc-voc', 'Masters', 'Doctorate'])\n",
    "set(data.education[data.salary == '>50K'].unique()).issubset(high_edu)"
   ]
  },
  {
   "cell_type": "markdown",
   "metadata": {},
   "source": [
    "**7. Выведите статистику возраста для каждой расы (признак *race*) и каждого пола. Используйте *groupby* и *describe*. Найдите таким образом максимальный возраст мужчин расы *Asian-Pac-Islander*.**"
   ]
  },
  {
   "cell_type": "code",
   "execution_count": 250,
   "metadata": {
    "scrolled": true
   },
   "outputs": [
    {
     "data": {
      "text/plain": "                             count       mean        std   min   25%   50%  \\\nrace               sex                                                       \nAmer-Indian-Eskimo Female    119.0  37.117647  13.114991  17.0  27.0  36.0   \n                   Male      192.0  37.208333  12.049563  17.0  28.0  35.0   \nAsian-Pac-Islander Female    346.0  35.089595  12.300845  17.0  25.0  33.0   \n                   Male      692.0  39.000000  12.746669  18.0  29.0  37.0   \nBlack              Female   1555.0  37.854019  12.637197  17.0  28.0  37.0   \n                   Male     1567.0  37.699426  12.880714  17.0  27.0  36.0   \nOther              Female    109.0  31.678899  11.631599  17.0  23.0  29.0   \n                   Male      162.0  34.654321  11.355531  17.0  26.0  32.0   \nWhite              Female   8633.0  36.819646  14.331045  17.0  25.0  35.0   \n                   Male    19162.0  39.656560  13.436249  17.0  29.0  38.0   \n\n                             75%   max  \nrace               sex                  \nAmer-Indian-Eskimo Female  46.00  80.0  \n                   Male    45.00  82.0  \nAsian-Pac-Islander Female  43.75  75.0  \n                   Male    46.00  90.0  \nBlack              Female  46.00  90.0  \n                   Male    46.00  90.0  \nOther              Female  39.00  74.0  \n                   Male    42.00  77.0  \nWhite              Female  46.00  90.0  \n                   Male    49.00  90.0  ",
      "text/html": "<div>\n<style scoped>\n    .dataframe tbody tr th:only-of-type {\n        vertical-align: middle;\n    }\n\n    .dataframe tbody tr th {\n        vertical-align: top;\n    }\n\n    .dataframe thead th {\n        text-align: right;\n    }\n</style>\n<table border=\"1\" class=\"dataframe\">\n  <thead>\n    <tr style=\"text-align: right;\">\n      <th></th>\n      <th></th>\n      <th>count</th>\n      <th>mean</th>\n      <th>std</th>\n      <th>min</th>\n      <th>25%</th>\n      <th>50%</th>\n      <th>75%</th>\n      <th>max</th>\n    </tr>\n    <tr>\n      <th>race</th>\n      <th>sex</th>\n      <th></th>\n      <th></th>\n      <th></th>\n      <th></th>\n      <th></th>\n      <th></th>\n      <th></th>\n      <th></th>\n    </tr>\n  </thead>\n  <tbody>\n    <tr>\n      <th rowspan=\"2\" valign=\"top\">Amer-Indian-Eskimo</th>\n      <th>Female</th>\n      <td>119.0</td>\n      <td>37.117647</td>\n      <td>13.114991</td>\n      <td>17.0</td>\n      <td>27.0</td>\n      <td>36.0</td>\n      <td>46.00</td>\n      <td>80.0</td>\n    </tr>\n    <tr>\n      <th>Male</th>\n      <td>192.0</td>\n      <td>37.208333</td>\n      <td>12.049563</td>\n      <td>17.0</td>\n      <td>28.0</td>\n      <td>35.0</td>\n      <td>45.00</td>\n      <td>82.0</td>\n    </tr>\n    <tr>\n      <th rowspan=\"2\" valign=\"top\">Asian-Pac-Islander</th>\n      <th>Female</th>\n      <td>346.0</td>\n      <td>35.089595</td>\n      <td>12.300845</td>\n      <td>17.0</td>\n      <td>25.0</td>\n      <td>33.0</td>\n      <td>43.75</td>\n      <td>75.0</td>\n    </tr>\n    <tr>\n      <th>Male</th>\n      <td>692.0</td>\n      <td>39.000000</td>\n      <td>12.746669</td>\n      <td>18.0</td>\n      <td>29.0</td>\n      <td>37.0</td>\n      <td>46.00</td>\n      <td>90.0</td>\n    </tr>\n    <tr>\n      <th rowspan=\"2\" valign=\"top\">Black</th>\n      <th>Female</th>\n      <td>1555.0</td>\n      <td>37.854019</td>\n      <td>12.637197</td>\n      <td>17.0</td>\n      <td>28.0</td>\n      <td>37.0</td>\n      <td>46.00</td>\n      <td>90.0</td>\n    </tr>\n    <tr>\n      <th>Male</th>\n      <td>1567.0</td>\n      <td>37.699426</td>\n      <td>12.880714</td>\n      <td>17.0</td>\n      <td>27.0</td>\n      <td>36.0</td>\n      <td>46.00</td>\n      <td>90.0</td>\n    </tr>\n    <tr>\n      <th rowspan=\"2\" valign=\"top\">Other</th>\n      <th>Female</th>\n      <td>109.0</td>\n      <td>31.678899</td>\n      <td>11.631599</td>\n      <td>17.0</td>\n      <td>23.0</td>\n      <td>29.0</td>\n      <td>39.00</td>\n      <td>74.0</td>\n    </tr>\n    <tr>\n      <th>Male</th>\n      <td>162.0</td>\n      <td>34.654321</td>\n      <td>11.355531</td>\n      <td>17.0</td>\n      <td>26.0</td>\n      <td>32.0</td>\n      <td>42.00</td>\n      <td>77.0</td>\n    </tr>\n    <tr>\n      <th rowspan=\"2\" valign=\"top\">White</th>\n      <th>Female</th>\n      <td>8633.0</td>\n      <td>36.819646</td>\n      <td>14.331045</td>\n      <td>17.0</td>\n      <td>25.0</td>\n      <td>35.0</td>\n      <td>46.00</td>\n      <td>90.0</td>\n    </tr>\n    <tr>\n      <th>Male</th>\n      <td>19162.0</td>\n      <td>39.656560</td>\n      <td>13.436249</td>\n      <td>17.0</td>\n      <td>29.0</td>\n      <td>38.0</td>\n      <td>49.00</td>\n      <td>90.0</td>\n    </tr>\n  </tbody>\n</table>\n</div>"
     },
     "execution_count": 250,
     "metadata": {},
     "output_type": "execute_result"
    }
   ],
   "source": [
    "table = data.groupby(['race', 'sex']).age.describe()\n",
    "table"
   ]
  },
  {
   "cell_type": "code",
   "execution_count": 251,
   "outputs": [
    {
     "data": {
      "text/plain": "90.0"
     },
     "execution_count": 251,
     "metadata": {},
     "output_type": "execute_result"
    }
   ],
   "source": [
    "table.loc[('Asian-Pac-Islander', 'Male')].loc['max']"
   ],
   "metadata": {
    "collapsed": false
   }
  },
  {
   "cell_type": "markdown",
   "metadata": {},
   "source": [
    "**8. Среди кого больше доля зарабатывающих много (>50K): среди женатых или холостых мужчин (признак *marital-status*)? Женатыми считаем тех, у кого *marital-status* начинается с *Married* (Married-civ-spouse, Married-spouse-absent или Married-AF-spouse), остальных считаем холостыми.**"
   ]
  },
  {
   "cell_type": "code",
   "execution_count": 252,
   "metadata": {},
   "outputs": [
    {
     "name": "stdout",
     "output_type": "stream",
     "text": [
      "5963 697\n",
      "Married are more\n"
     ]
    }
   ],
   "source": [
    "mar_count = len(data[(data.sex == 'Male') & (data.salary == '>50K') & (data['marital-status'].str.contains('Married'))])\n",
    "non_mar_count = len(data[(data.sex == 'Male') & (data.salary == '>50K')]) - mar_count\n",
    "print(mar_count, non_mar_count)\n",
    "print('Married are more')"
   ]
  },
  {
   "cell_type": "markdown",
   "metadata": {},
   "source": [
    "**9. Какое максимальное число часов человек работает в неделю (признак *hours-per-week*)? Сколько людей работают такое количество часов и каков среди них процент зарабатывающих много?**"
   ]
  },
  {
   "cell_type": "markdown",
   "source": [
    "Какой человек? конкретный или в общем? Каждый человек не имеет выбора в часах, есть только 1 колонка и одно значение"
   ],
   "metadata": {
    "collapsed": false
   }
  },
  {
   "cell_type": "code",
   "execution_count": 253,
   "outputs": [
    {
     "data": {
      "text/plain": "99"
     },
     "execution_count": 253,
     "metadata": {},
     "output_type": "execute_result"
    }
   ],
   "source": [
    "max_hours = data['hours-per-week'].max()\n",
    "max_hours"
   ],
   "metadata": {
    "collapsed": false
   }
  },
  {
   "cell_type": "code",
   "execution_count": 254,
   "outputs": [
    {
     "data": {
      "text/plain": "85"
     },
     "execution_count": 254,
     "metadata": {},
     "output_type": "execute_result"
    }
   ],
   "source": [
    "how_many_people = len(data[data['hours-per-week'] == max_hours])\n",
    "how_many_people"
   ],
   "metadata": {
    "collapsed": false
   }
  },
  {
   "cell_type": "code",
   "execution_count": 255,
   "outputs": [
    {
     "data": {
      "text/plain": "29.411764705882355"
     },
     "execution_count": 255,
     "metadata": {},
     "output_type": "execute_result"
    }
   ],
   "source": [
    "per = len(data[(data['hours-per-week'] == max_hours) & (data.salary == '>50K')]) / how_many_people * 100\n",
    "per"
   ],
   "metadata": {
    "collapsed": false
   }
  },
  {
   "cell_type": "markdown",
   "metadata": {},
   "source": [
    "**10. Посчитайте среднее время работы (*hours-per-week*) зарабатывающих мало и много (*salary*) для каждой страны (*native-country*).**"
   ]
  },
  {
   "cell_type": "markdown",
   "source": [
    "1. Страну под названием \"?\" нужно считать null или оставить ее в покое?\n",
    "2. Если значения данных - \"?\" считать ли это за null и обработать это?"
   ],
   "metadata": {
    "collapsed": false
   }
  },
  {
   "cell_type": "code",
   "execution_count": 256,
   "metadata": {
    "scrolled": true
   },
   "outputs": [
    {
     "data": {
      "text/plain": "native-country  salary\n?               <=50K     40.165138\n                >50K      45.547945\nCambodia        <=50K     41.416667\n                >50K      40.000000\nCanada          <=50K     37.914634\n                            ...    \nUnited-States   >50K      45.505789\nVietnam         <=50K     37.193548\n                >50K      39.200000\nYugoslavia      <=50K     41.600000\n                >50K      49.500000\nName: hours-per-week, Length: 82, dtype: float64"
     },
     "execution_count": 256,
     "metadata": {},
     "output_type": "execute_result"
    }
   ],
   "source": [
    "table = data.groupby(['native-country', 'salary']).mean()['hours-per-week']\n",
    "table"
   ]
  },
  {
   "cell_type": "markdown",
   "metadata": {},
   "source": [
    "**11.Сгруппируйте людей по возрастным группам *young*, *adult*, *retiree*, где:**\n",
    "* *young* соответствует 16-35 лет\n",
    "* *adult* - 35-70 лет\n",
    "* *retiree* - 70-100 лет\n",
    "\n",
    "**Проставьте название соответсвтуещей группы для каждого человека в новой колонке AgeGroup**"
   ]
  },
  {
   "cell_type": "code",
   "execution_count": 257,
   "metadata": {
    "scrolled": true
   },
   "outputs": [
    {
     "data": {
      "text/plain": "       age AgeGroup\n0       39    adult\n1       50    adult\n2       38    adult\n3       53    adult\n4       28    young\n...    ...      ...\n32556   27    young\n32557   40    adult\n32558   58    adult\n32559   22    young\n32560   52    adult\n\n[32537 rows x 2 columns]",
      "text/html": "<div>\n<style scoped>\n    .dataframe tbody tr th:only-of-type {\n        vertical-align: middle;\n    }\n\n    .dataframe tbody tr th {\n        vertical-align: top;\n    }\n\n    .dataframe thead th {\n        text-align: right;\n    }\n</style>\n<table border=\"1\" class=\"dataframe\">\n  <thead>\n    <tr style=\"text-align: right;\">\n      <th></th>\n      <th>age</th>\n      <th>AgeGroup</th>\n    </tr>\n  </thead>\n  <tbody>\n    <tr>\n      <th>0</th>\n      <td>39</td>\n      <td>adult</td>\n    </tr>\n    <tr>\n      <th>1</th>\n      <td>50</td>\n      <td>adult</td>\n    </tr>\n    <tr>\n      <th>2</th>\n      <td>38</td>\n      <td>adult</td>\n    </tr>\n    <tr>\n      <th>3</th>\n      <td>53</td>\n      <td>adult</td>\n    </tr>\n    <tr>\n      <th>4</th>\n      <td>28</td>\n      <td>young</td>\n    </tr>\n    <tr>\n      <th>...</th>\n      <td>...</td>\n      <td>...</td>\n    </tr>\n    <tr>\n      <th>32556</th>\n      <td>27</td>\n      <td>young</td>\n    </tr>\n    <tr>\n      <th>32557</th>\n      <td>40</td>\n      <td>adult</td>\n    </tr>\n    <tr>\n      <th>32558</th>\n      <td>58</td>\n      <td>adult</td>\n    </tr>\n    <tr>\n      <th>32559</th>\n      <td>22</td>\n      <td>young</td>\n    </tr>\n    <tr>\n      <th>32560</th>\n      <td>52</td>\n      <td>adult</td>\n    </tr>\n  </tbody>\n</table>\n<p>32537 rows × 2 columns</p>\n</div>"
     },
     "execution_count": 257,
     "metadata": {},
     "output_type": "execute_result"
    }
   ],
   "source": [
    "import numpy as np\n",
    "\n",
    "conditions = [\n",
    "    (data.age >= 16) & (data.age < 35),\n",
    "    (data.age >= 35) & (data.age < 70),\n",
    "    (data.age >= 70) & (data.age <= 100)\n",
    "]\n",
    "values = ['young', 'adult', 'retiree']\n",
    "data['AgeGroup'] = np.select(conditions, values)\n",
    "data[['age', 'AgeGroup']]"
   ]
  },
  {
   "cell_type": "code",
   "execution_count": 260,
   "outputs": [
    {
     "data": {
      "text/plain": "Index(['age', 'workclass', 'fnlwgt', 'education', 'education-num',\n       'marital-status', 'occupation', 'relationship', 'race', 'sex',\n       'capital-gain', 'capital-loss', 'hours-per-week', 'native-country',\n       'salary', 'AgeGroup'],\n      dtype='object')"
     },
     "execution_count": 260,
     "metadata": {},
     "output_type": "execute_result"
    }
   ],
   "source": [
    "data.columns"
   ],
   "metadata": {
    "collapsed": false
   }
  },
  {
   "cell_type": "markdown",
   "metadata": {},
   "source": [
    "**12-13. Определите количество зарабатывающих >50K в каждой из возрастных групп (колонка AgeGroup), а также выведите название возрастной группы, в которой чаще зарабатывают больше 50К (>50K)**"
   ]
  },
  {
   "cell_type": "code",
   "execution_count": 300,
   "metadata": {},
   "outputs": [
    {
     "data": {
      "text/plain": "           age\nAgeGroup      \nadult     6238\nretiree    113\nyoung     1488",
      "text/html": "<div>\n<style scoped>\n    .dataframe tbody tr th:only-of-type {\n        vertical-align: middle;\n    }\n\n    .dataframe tbody tr th {\n        vertical-align: top;\n    }\n\n    .dataframe thead th {\n        text-align: right;\n    }\n</style>\n<table border=\"1\" class=\"dataframe\">\n  <thead>\n    <tr style=\"text-align: right;\">\n      <th></th>\n      <th>age</th>\n    </tr>\n    <tr>\n      <th>AgeGroup</th>\n      <th></th>\n    </tr>\n  </thead>\n  <tbody>\n    <tr>\n      <th>adult</th>\n      <td>6238</td>\n    </tr>\n    <tr>\n      <th>retiree</th>\n      <td>113</td>\n    </tr>\n    <tr>\n      <th>young</th>\n      <td>1488</td>\n    </tr>\n  </tbody>\n</table>\n</div>"
     },
     "execution_count": 300,
     "metadata": {},
     "output_type": "execute_result"
    }
   ],
   "source": [
    "table = data[data.salary == '>50K'].groupby('AgeGroup').count()['age'].to_frame()\n",
    "table"
   ]
  },
  {
   "cell_type": "code",
   "execution_count": 307,
   "outputs": [
    {
     "data": {
      "text/plain": "['adult']"
     },
     "execution_count": 307,
     "metadata": {},
     "output_type": "execute_result"
    }
   ],
   "source": [
    "table.index[table.age == table.age.max()].tolist()"
   ],
   "metadata": {
    "collapsed": false
   }
  },
  {
   "cell_type": "markdown",
   "metadata": {},
   "source": [
    "**14. Сгруппируйте людей по типу занятости (колонка occupation) и определите количество людей в каждой группе. После чего напишите функциюю фильтрации filter_func, которая будет возвращать только те группы, в которых средний возраст (колонка age) не больше 40 и в которых все работники отрабатывают более 5 часов в неделю (колонка hours-per-week)**"
   ]
  },
  {
   "cell_type": "code",
   "execution_count": 326,
   "metadata": {},
   "outputs": [
    {
     "data": {
      "text/plain": "                   count\noccupation              \n?                   1843\nAdm-clerical        3768\nArmed-Forces           9\nCraft-repair        4094\nExec-managerial     4065\nFarming-fishing      992\nHandlers-cleaners   1369\nMachine-op-inspct   2000\nOther-service       3291\nPriv-house-serv      147\nProf-specialty      4136\nProtective-serv      649\nSales               3650\nTech-support         927\nTransport-moving    1597",
      "text/html": "<div>\n<style scoped>\n    .dataframe tbody tr th:only-of-type {\n        vertical-align: middle;\n    }\n\n    .dataframe tbody tr th {\n        vertical-align: top;\n    }\n\n    .dataframe thead th {\n        text-align: right;\n    }\n</style>\n<table border=\"1\" class=\"dataframe\">\n  <thead>\n    <tr style=\"text-align: right;\">\n      <th></th>\n      <th>count</th>\n    </tr>\n    <tr>\n      <th>occupation</th>\n      <th></th>\n    </tr>\n  </thead>\n  <tbody>\n    <tr>\n      <th>?</th>\n      <td>1843</td>\n    </tr>\n    <tr>\n      <th>Adm-clerical</th>\n      <td>3768</td>\n    </tr>\n    <tr>\n      <th>Armed-Forces</th>\n      <td>9</td>\n    </tr>\n    <tr>\n      <th>Craft-repair</th>\n      <td>4094</td>\n    </tr>\n    <tr>\n      <th>Exec-managerial</th>\n      <td>4065</td>\n    </tr>\n    <tr>\n      <th>Farming-fishing</th>\n      <td>992</td>\n    </tr>\n    <tr>\n      <th>Handlers-cleaners</th>\n      <td>1369</td>\n    </tr>\n    <tr>\n      <th>Machine-op-inspct</th>\n      <td>2000</td>\n    </tr>\n    <tr>\n      <th>Other-service</th>\n      <td>3291</td>\n    </tr>\n    <tr>\n      <th>Priv-house-serv</th>\n      <td>147</td>\n    </tr>\n    <tr>\n      <th>Prof-specialty</th>\n      <td>4136</td>\n    </tr>\n    <tr>\n      <th>Protective-serv</th>\n      <td>649</td>\n    </tr>\n    <tr>\n      <th>Sales</th>\n      <td>3650</td>\n    </tr>\n    <tr>\n      <th>Tech-support</th>\n      <td>927</td>\n    </tr>\n    <tr>\n      <th>Transport-moving</th>\n      <td>1597</td>\n    </tr>\n  </tbody>\n</table>\n</div>"
     },
     "execution_count": 326,
     "metadata": {},
     "output_type": "execute_result"
    }
   ],
   "source": [
    "table = data.groupby('occupation').count()['age'].to_frame()\n",
    "table.rename(columns = {'age':'count'}, inplace=True)\n",
    "table"
   ]
  },
  {
   "cell_type": "code",
   "execution_count": 346,
   "outputs": [],
   "source": [
    "def filter_func(df: pd.DataFrame):\n",
    "    return df.occupation[(df.age >= 40) & (df['hours-per-week'] > 5)].unique()"
   ],
   "metadata": {
    "collapsed": false
   }
  },
  {
   "cell_type": "code",
   "execution_count": 347,
   "outputs": [
    {
     "name": "stdout",
     "output_type": "stream",
     "text": [
      "['Exec-managerial' 'Handlers-cleaners' 'Other-service' 'Craft-repair'\n",
      " 'Prof-specialty' 'Transport-moving' 'Tech-support' '?'\n",
      " 'Machine-op-inspct' 'Adm-clerical' 'Sales' 'Protective-serv'\n",
      " 'Farming-fishing' 'Priv-house-serv' 'Armed-Forces'] <class 'numpy.ndarray'>\n"
     ]
    }
   ],
   "source": [
    "a = filter_func(data)\n",
    "print(a, type(a))"
   ],
   "metadata": {
    "collapsed": false
   }
  },
  {
   "cell_type": "markdown",
   "source": [
    "жалко удалять ..."
   ],
   "metadata": {
    "collapsed": false
   }
  },
  {
   "cell_type": "code",
   "execution_count": 338,
   "outputs": [],
   "source": [
    "def filter_func(df: pd.DataFrame)->list:\n",
    "    groups = []\n",
    "    for group in table.index:\n",
    "        for i in range(len(df)):\n",
    "            if (df.occupation.iloc[i] == group) & \\\n",
    "                    (df.age.iloc[i] <= 40) & \\\n",
    "                    (df['hours-per-week'].iloc[i] > 5):\n",
    "\n",
    "                groups.append(group)\n",
    "    return groups"
   ],
   "metadata": {
    "collapsed": false
   }
  },
  {
   "cell_type": "code",
   "execution_count": 340,
   "outputs": [
    {
     "data": {
      "text/plain": "{'?',\n 'Adm-clerical',\n 'Armed-Forces',\n 'Craft-repair',\n 'Exec-managerial',\n 'Farming-fishing',\n 'Handlers-cleaners',\n 'Machine-op-inspct',\n 'Other-service',\n 'Priv-house-serv',\n 'Prof-specialty',\n 'Protective-serv',\n 'Sales',\n 'Tech-support',\n 'Transport-moving'}"
     },
     "execution_count": 340,
     "metadata": {},
     "output_type": "execute_result"
    }
   ],
   "source": [
    "a = filter_func(data)\n",
    "set(a)"
   ],
   "metadata": {
    "collapsed": false
   }
  }
 ],
 "metadata": {
  "anaconda-cloud": {},
  "kernelspec": {
   "display_name": "Python 3 (ipykernel)",
   "language": "python",
   "name": "python3"
  },
  "language_info": {
   "codemirror_mode": {
    "name": "ipython",
    "version": 3
   },
   "file_extension": ".py",
   "mimetype": "text/x-python",
   "name": "python",
   "nbconvert_exporter": "python",
   "pygments_lexer": "ipython3",
   "version": "3.8.10"
  }
 },
 "nbformat": 4,
 "nbformat_minor": 1
}
