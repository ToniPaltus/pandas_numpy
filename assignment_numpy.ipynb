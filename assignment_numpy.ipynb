{
 "cells": [
  {
   "cell_type": "markdown",
   "id": "d3df79dd",
   "metadata": {},
   "source": [
    "## Упражнения по библиотеке Numpy"
   ]
  },
  {
   "cell_type": "code",
   "execution_count": 1,
   "id": "76b9c43b",
   "metadata": {},
   "outputs": [],
   "source": [
    "import numpy as np\n"
   ]
  },
  {
   "cell_type": "markdown",
   "id": "03727b7c",
   "metadata": {},
   "source": [
    "**1.** Дан случайный массив, поменять знак у элементов, значения которых между 3 и 8"
   ]
  },
  {
   "cell_type": "code",
   "execution_count": 2,
   "outputs": [
    {
     "name": "stdout",
     "output_type": "stream",
     "text": [
      "Arr:\n",
      " [-3 -5  6  1 -4 -5 -2 -5 -5  1  3  3  9  6 -1 -1  5  1 -4  3  0  8 -1  8\n",
      "  7  5 -2 -4 -4  4  8  9  1  4 -2  7  7  0 -4 -2  7  0 -4  2  4  9 -3 -2\n",
      " -4  0]\n",
      "New arr:\n",
      " [-3 -5 -6  1 -4 -5 -2 -5 -5  1  3  3  9 -6 -1 -1 -5  1 -4  3  0  8 -1  8\n",
      " -7 -5 -2 -4 -4 -4  8  9  1 -4 -2 -7 -7  0 -4 -2 -7  0 -4  2 -4  9 -3 -2\n",
      " -4  0]\n"
     ]
    }
   ],
   "source": [
    "arr = np.array(np.random.randint(-5, 10, 50))\n",
    "print('Arr:\\n', arr)\n",
    "\n",
    "arr[(arr > 3) & (arr < 8)] *= -1\n",
    "#arr = np.where((arr > 3) & (arr < 8), -arr, arr)\n",
    "print('New arr:\\n', arr)"
   ],
   "metadata": {
    "collapsed": false
   }
  },
  {
   "cell_type": "markdown",
   "id": "5fa4abda",
   "metadata": {},
   "source": [
    "**2.** Заменить максимальный элемент случайного массива на 0"
   ]
  },
  {
   "cell_type": "code",
   "execution_count": 3,
   "id": "f2788a6e",
   "metadata": {},
   "outputs": [
    {
     "name": "stdout",
     "output_type": "stream",
     "text": [
      "Arr:\n",
      " [ 7 -3  6 -2  7  6  4  5  9 -2  6  2  1  6 -1  1  7 -4  3 -4  7 -3  4  4\n",
      " -1  6  8  9  6 -2 -4 -4 -4 -4 -1 -1  2  4  2  8 -4  7  8  5  5  9  1  6\n",
      "  6  6]\n",
      "Max: 9 \tIndex: 8\n",
      "New arr:\n",
      " [ 7 -3  6 -2  7  6  4  5  0 -2  6  2  1  6 -1  1  7 -4  3 -4  7 -3  4  4\n",
      " -1  6  8  9  6 -2 -4 -4 -4 -4 -1 -1  2  4  2  8 -4  7  8  5  5  9  1  6\n",
      "  6  6]\n"
     ]
    }
   ],
   "source": [
    "arr = np.array(np.random.randint(-5, 10, 50))\n",
    "print('Arr:\\n', arr)\n",
    "print('Max:', np.max(arr), '\\tIndex:', np.argmax(arr))\n",
    "\n",
    "arr[np.argmax(arr)] = 0\n",
    "print('New arr:\\n', arr)"
   ]
  },
  {
   "cell_type": "markdown",
   "id": "3cac656b",
   "metadata": {},
   "source": [
    "**3.** Построить прямое произведение массивов (все комбинации с каждым элементом). На вход подается двумерный массив"
   ]
  },
  {
   "cell_type": "code",
   "execution_count": 4,
   "id": "3396b764",
   "metadata": {},
   "outputs": [
    {
     "name": "stdout",
     "output_type": "stream",
     "text": [
      "Mat:\n",
      " [[ 1 -5]\n",
      " [ 6 -4]\n",
      " [ 5  1]]\n",
      "Res:\n",
      " [[ 1  6  5]\n",
      " [ 1  6  1]\n",
      " [ 1 -4  5]\n",
      " [ 1 -4  1]\n",
      " [-5  6  5]\n",
      " [-5  6  1]\n",
      " [-5 -4  5]\n",
      " [-5 -4  1]]\n"
     ]
    }
   ],
   "source": [
    "mat = np.array(np.random.randint(-5, 10, 6)).reshape(3, 2)\n",
    "print('Mat:\\n',mat)\n",
    "\n",
    "arrays = [np.asarray(row) for row in mat]\n",
    "shape = map(len, arrays)\n",
    "\n",
    "grid = np.indices(shape)\n",
    "grid = grid.reshape(len(arrays), -1).T\n",
    "\n",
    "for n, arr in enumerate(arrays):\n",
    "    grid[:, n] = arrays[n][grid[:, n]]\n",
    "\n",
    "print('Res:\\n', grid)"
   ]
  },
  {
   "cell_type": "markdown",
   "id": "674c9354",
   "metadata": {},
   "source": [
    "**4.** Даны 2 массива A (8x3) и B (2x2). Найти строки в A, которые содержат элементы из каждой строки в B, независимо от порядка элементов в B"
   ]
  },
  {
   "cell_type": "code",
   "execution_count": 5,
   "outputs": [
    {
     "name": "stdout",
     "output_type": "stream",
     "text": [
      "A:\n",
      " [[3 4 0]\n",
      " [1 2 2]\n",
      " [2 3 4]\n",
      " [2 4 0]\n",
      " [3 2 2]\n",
      " [4 1 0]\n",
      " [3 3 3]\n",
      " [4 0 3]]\n",
      "B:\n",
      " [[2 1]\n",
      " [1 4]]\n",
      "rows [1 2 3 4 5]\n"
     ]
    }
   ],
   "source": [
    "A = np.array(np.random.randint(0, 5, 24)).reshape(8, 3)\n",
    "B = np.array(np.random.randint(0, 5, 4)).reshape(2, 2)\n",
    "print('A:\\n', A)\n",
    "print('B:\\n', B)\n",
    "\n",
    "# Создаем четырехмерную матрицу С, чтобы каждый элемент был двумерным массивом(размера матрицы В)\n",
    "# Затем проводим точное сравнение, чтобы хоть 1 элемент из строки В, был равен элементу в виде двумерной матрицы.\n",
    "# Затем суммируем все значения на осях, кроме 0 - это строки А, и сравниваем с числом столбцов В, если >=,\n",
    "# то строка подходит, иначе будет ноль, которые мы отбросим. В результате получим индексы подходящих строк.\n",
    "C = A[:, :, np.newaxis, np.newaxis] == B\n",
    "rows = (C.sum(axis=(1,2,3)) >= B.shape[1]).nonzero()[0]\n",
    "print('rows', rows)"
   ],
   "metadata": {
    "collapsed": false
   }
  },
  {
   "cell_type": "markdown",
   "id": "fa46533b",
   "metadata": {},
   "source": [
    "**5.** Дана 10x3 матрица, найти строки из неравных значений (например строка [2,2,3] остается, строка [3,3,3] удаляется)"
   ]
  },
  {
   "cell_type": "code",
   "execution_count": 6,
   "id": "fa545b23",
   "metadata": {},
   "outputs": [
    {
     "name": "stdout",
     "output_type": "stream",
     "text": [
      "mat:\n",
      " [[2 2 2]\n",
      " [0 3 0]\n",
      " [1 3 3]\n",
      " [2 0 2]\n",
      " [3 3 1]\n",
      " [1 1 0]\n",
      " [0 0 3]\n",
      " [1 1 3]\n",
      " [2 3 0]\n",
      " [0 3 3]]\n",
      "Res:\n",
      " [[0 3 0]\n",
      " [1 3 3]\n",
      " [2 0 2]\n",
      " [3 3 1]\n",
      " [1 1 0]\n",
      " [0 0 3]\n",
      " [1 1 3]\n",
      " [2 3 0]\n",
      " [0 3 3]]\n"
     ]
    }
   ],
   "source": [
    "mat = np.random.randint(0, 4, (10, 3))\n",
    "print('mat:\\n', mat)\n",
    "\n",
    "res = []\n",
    "for row in mat:\n",
    "    if len(np.unique(row)) != 1:\n",
    "        res.append(row)\n",
    "print('Res:\\n', np.array(res))"
   ]
  },
  {
   "cell_type": "code",
   "execution_count": 7,
   "outputs": [
    {
     "name": "stdout",
     "output_type": "stream",
     "text": [
      "[[0 3 0]\n",
      " [1 3 3]\n",
      " [2 0 2]\n",
      " [3 3 1]\n",
      " [1 1 0]\n",
      " [0 0 3]\n",
      " [1 1 3]\n",
      " [2 3 0]\n",
      " [0 3 3]]\n"
     ]
    }
   ],
   "source": [
    "# Смотрим, чтобы все элементы строки матрицы в 1 и 2 столбце равнялись элементам в 0 и в 1,\n",
    "# если это так, то строка удаляется. Инвертируем, чтобы вывести не эти строки.\n",
    "mask = np.logical_and.reduce(mat[:,1:] == mat[:,:-1], axis=1)\n",
    "res = mat[~mask]\n",
    "print(res)"
   ],
   "metadata": {
    "collapsed": false
   }
  },
  {
   "cell_type": "markdown",
   "id": "28f0d116",
   "metadata": {},
   "source": [
    "**6.** Дан двумерный массив. Удалить те строки, которые повторяются"
   ]
  },
  {
   "cell_type": "code",
   "execution_count": 8,
   "id": "83d2c0b7",
   "metadata": {},
   "outputs": [
    {
     "name": "stdout",
     "output_type": "stream",
     "text": [
      "Mat:\n",
      " [[2 2 2]\n",
      " [1 0 2]\n",
      " [0 2 0]\n",
      " [2 0 0]\n",
      " [1 2 0]\n",
      " [1 1 1]\n",
      " [1 1 0]\n",
      " [2 2 1]\n",
      " [1 1 2]\n",
      " [0 0 2]]\n",
      "Res:\n",
      " [[2 2 2]\n",
      " [1 0 2]\n",
      " [0 2 0]\n",
      " [2 0 0]\n",
      " [1 2 0]\n",
      " [1 1 1]\n",
      " [1 1 0]\n",
      " [2 2 1]\n",
      " [1 1 2]\n",
      " [0 0 2]]\n"
     ]
    }
   ],
   "source": [
    "mat = np.array(np.random.randint(0, 3, (10, 3)))\n",
    "print('Mat:\\n', mat)\n",
    "\n",
    "u, ind = np.unique(mat, axis=0, return_index=True)\n",
    "res = u[ind.argsort()]\n",
    "print('Res:\\n', res)"
   ]
  },
  {
   "cell_type": "markdown",
   "id": "6daa9e37",
   "metadata": {},
   "source": [
    "______\n",
    "______"
   ]
  },
  {
   "cell_type": "markdown",
   "id": "cfbfcaff",
   "metadata": {},
   "source": [
    "Для каждой из следующих задач (1-5) нужно привести 2 реализации – одна без использования numpy (cчитайте, что там, где на входе или выходе должны быть numpy array, будут просто списки), а вторая полностью векторизованная с использованием numpy (без использования питоновских циклов/map/list comprehension).\n",
    "\n",
    "\n",
    "__Замечание 1.__ Можно считать, что все указанные объекты непустые (к примеру, в __задаче 1__ на диагонали матрицы есть ненулевые элементы).\n",
    "\n",
    "__Замечание 2.__ Для большинства задач решение занимает не больше 1-2 строк."
   ]
  },
  {
   "cell_type": "markdown",
   "id": "673cac7f",
   "metadata": {},
   "source": [
    "___"
   ]
  },
  {
   "cell_type": "markdown",
   "id": "ca6f585e",
   "metadata": {},
   "source": [
    "* __Задача 1__: Подсчитать произведение ненулевых элементов на диагонали прямоугольной матрицы.  \n",
    " Например, для X = np.array([[1, 0, 1], [2, 0, 2], [3, 0, 3], [4, 4, 4]]) ответ 3."
   ]
  },
  {
   "cell_type": "code",
   "execution_count": 9,
   "id": "065862fc",
   "metadata": {},
   "outputs": [
    {
     "name": "stdout",
     "output_type": "stream",
     "text": [
      "Mat: [[0, 0, 3, 4, 1], [1, 3, 2, 3, 3], [3, 1, 2, 3, 2], [1, 1, 3, 5, 0]]\n",
      "Res: 30\n"
     ]
    }
   ],
   "source": [
    "# no numpy example\n",
    "import random\n",
    "from functools import reduce\n",
    "\n",
    "rows = 4\n",
    "cols = 5\n",
    "mat = [[random.randint(0, 5) for i in range(cols)] for j in range(rows)]\n",
    "print('Mat:', mat)\n",
    "res = reduce(lambda a, b: a*b,\\\n",
    "             [mat[i][i] for i in range(min(rows, cols)) if mat[i][i] != 0], 1)\n",
    "print('Res:', res)"
   ]
  },
  {
   "cell_type": "code",
   "execution_count": 10,
   "outputs": [
    {
     "data": {
      "text/plain": "30"
     },
     "execution_count": 10,
     "metadata": {},
     "output_type": "execute_result"
    }
   ],
   "source": [
    "# numpy\n",
    "np.prod(np.diag(mat)[np.diag(mat) != 0])"
   ],
   "metadata": {
    "collapsed": false
   }
  },
  {
   "cell_type": "markdown",
   "id": "9fc51d41",
   "metadata": {},
   "source": [
    "* __Задача 2__: Даны два вектора x и y. Проверить, задают ли они одно и то же мультимножество.  \n",
    "  Например, для x = np.array([1, 2, 2, 4]), y = np.array([4, 2, 1, 2]) ответ True."
   ]
  },
  {
   "cell_type": "code",
   "execution_count": 11,
   "id": "a809e02f",
   "metadata": {},
   "outputs": [
    {
     "name": "stdout",
     "output_type": "stream",
     "text": [
      "x: [-5, -1, -4, -5, -4]\n",
      "y: [4, -4, -5, 2, -4]\n",
      "False\n"
     ]
    }
   ],
   "source": [
    "# no numpy\n",
    "x = [random.randint(-5, 4) for i in range(5)]\n",
    "y = [random.randint(-5, 4) for i in range(5)]\n",
    "print('x:', x)\n",
    "print('y:', y)\n",
    "print(sorted(set(x)) == sorted(set(y))) # Множества не стоит сравнивать на точное равенство, потому что порядок элементов не важен в них"
   ]
  },
  {
   "cell_type": "code",
   "execution_count": 12,
   "outputs": [
    {
     "data": {
      "text/plain": "False"
     },
     "execution_count": 12,
     "metadata": {},
     "output_type": "execute_result"
    }
   ],
   "source": [
    "# numpy\n",
    "len(np.setxor1d(x, y)) == 0"
   ],
   "metadata": {
    "collapsed": false
   }
  },
  {
   "cell_type": "markdown",
   "id": "b9c185c7",
   "metadata": {},
   "source": [
    "* __Задача 3__: Найти максимальный элемент в векторе x среди элементов, перед которыми стоит ноль. \n",
    " Например, для x = np.array([6, 2, 0, 3, 0, 0, 5, 7, 0]) ответ 5."
   ]
  },
  {
   "cell_type": "code",
   "execution_count": 13,
   "id": "b57df008",
   "metadata": {},
   "outputs": [
    {
     "name": "stdout",
     "output_type": "stream",
     "text": [
      "[2, 0, 0, 2, 1, 1, 7, 1, 5, 6, 3, 3, 2, 0, 3, 5, 2, 1, 2, 0]\n",
      "3\n"
     ]
    }
   ],
   "source": [
    "# no numpy\n",
    "x = [random.randint(0, 7) for i in range(20)]\n",
    "print(x)\n",
    "res = max([x[i] for i in range(1, len(x)) if x[i-1] == 0])\n",
    "print(res)"
   ]
  },
  {
   "cell_type": "code",
   "execution_count": 14,
   "outputs": [
    {
     "name": "stdout",
     "output_type": "stream",
     "text": [
      "3\n"
     ]
    }
   ],
   "source": [
    "# numpy\n",
    "x = np.array(x)\n",
    "mask = x == 0\n",
    "print(x[1:][mask[:-1]].max())"
   ],
   "metadata": {
    "collapsed": false
   }
  },
  {
   "cell_type": "markdown",
   "id": "480be4ce",
   "metadata": {},
   "source": [
    "* __Задача 4__: Реализовать кодирование длин серий (Run-length encoding). Для некоторого вектора x необходимо вернуть кортеж из двух векторов одинаковой длины. Первый содержит числа, а второй - сколько раз их нужно повторить.\n",
    " Например, для x = np.array([2, 2, 2, 3, 3, 3, 5]) ответ (np.array([2, 3, 5]), np.array([3, 3, 1]))."
   ]
  },
  {
   "cell_type": "code",
   "execution_count": 15,
   "id": "3c592124",
   "metadata": {},
   "outputs": [
    {
     "name": "stdout",
     "output_type": "stream",
     "text": [
      "X: [-4, -3, -3, -3, -1, 0, 1, 2, 3, 4]\n",
      "Res: ([-4, -3, -1, 0, 1, 2, 3, 4], [1, 3, 1, 1, 1, 1, 1, 1])\n"
     ]
    }
   ],
   "source": [
    "# no numpy\n",
    "import random\n",
    "x = [random.randint(-5, 5) for i in range(10)]\n",
    "print('X:', sorted(x))\n",
    "items = sorted(list(set(x)))\n",
    "res = (items, [x.count(item) for item in items])\n",
    "print('Res:', res)"
   ]
  },
  {
   "cell_type": "code",
   "execution_count": 16,
   "outputs": [
    {
     "data": {
      "text/plain": "(array([-4, -3, -1,  0,  1,  2,  3,  4]), array([1, 3, 1, 1, 1, 1, 1, 1]))"
     },
     "execution_count": 16,
     "metadata": {},
     "output_type": "execute_result"
    }
   ],
   "source": [
    "# numpy\n",
    "np.unique(x, return_counts=True)"
   ],
   "metadata": {
    "collapsed": false
   }
  },
  {
   "cell_type": "markdown",
   "id": "077532ec",
   "metadata": {},
   "source": [
    "* __Задача 5__: Даны две выборки объектов - X и Y. Вычислить матрицу евклидовых расстояний между объектами. Сравните с функцией scipy.spatial.distance.cdist по скорости работы."
   ]
  },
  {
   "cell_type": "code",
   "execution_count": 99,
   "id": "1e807797",
   "metadata": {},
   "outputs": [
    {
     "name": "stdout",
     "output_type": "stream",
     "text": [
      "X: [[-2, -1, 2], [-1, -5, 1], [-5, 2, 5]]\n",
      "Y: [[-1, 2, 1], [-2, 4, 4], [0, 0, 5]]\n",
      "\n",
      "Dist: [[3.3166247903554003, 5.385164807134505, 3.741657386773941], [7.0, 9.539392014169458, 6.48074069840786], [5.656854249492381, 3.741657386773941, 5.385164807134505]]\n"
     ]
    }
   ],
   "source": [
    "# no numpy\n",
    "import math\n",
    "size = 3\n",
    "X = [[random.randint(-5, 5) for i in range(size)] for j in range(size)]\n",
    "print('X:', X)\n",
    "Y = [[random.randint(-5, 5) for i in range(size)] for j in range(size)]\n",
    "print('Y:', Y)\n",
    "dist = [[math.dist(X[j], Y[i]) for i in range(size)]for j in range(size)]\n",
    "print('\\nDist:', dist)"
   ]
  },
  {
   "cell_type": "code",
   "execution_count": 100,
   "outputs": [
    {
     "name": "stdout",
     "output_type": "stream",
     "text": [
      "CPU times: user 21 µs, sys: 4 µs, total: 25 µs\n",
      "Wall time: 29.1 µs\n"
     ]
    }
   ],
   "source": [
    "%%time\n",
    "dist = [[math.dist(X[j], Y[i]) for i in range(size)] for j in range(size)] # 1"
   ],
   "metadata": {
    "collapsed": false
   }
  },
  {
   "cell_type": "code",
   "execution_count": 101,
   "outputs": [
    {
     "name": "stdout",
     "output_type": "stream",
     "text": [
      "[[3.3166247903554, 5.385164807134504, 3.7416573867739413], [7.0, 9.539392014169456, 6.48074069840786], [5.656854249492381, 3.7416573867739413, 5.385164807134504]]\n"
     ]
    }
   ],
   "source": [
    "# numpy\n",
    "X = np.matrix(X)\n",
    "Y = np.matrix(Y)\n",
    "dist = [[np.linalg.norm(X[j] - Y[i]) for i in range(size)] for j in range(size)]\n",
    "print(dist)"
   ],
   "metadata": {
    "collapsed": false
   }
  },
  {
   "cell_type": "code",
   "execution_count": 102,
   "outputs": [
    {
     "name": "stdout",
     "output_type": "stream",
     "text": [
      "CPU times: user 1.46 ms, sys: 264 µs, total: 1.73 ms\n",
      "Wall time: 1.16 ms\n"
     ]
    }
   ],
   "source": [
    "%%time\n",
    "dist = [[np.linalg.norm(X[j] - Y[i]) for i in range(size)] for j in range(size)] #2"
   ],
   "metadata": {
    "collapsed": false
   }
  },
  {
   "cell_type": "code",
   "execution_count": 103,
   "outputs": [],
   "source": [
    "import scipy.spatial"
   ],
   "metadata": {
    "collapsed": false
   }
  },
  {
   "cell_type": "code",
   "execution_count": 104,
   "outputs": [
    {
     "name": "stdout",
     "output_type": "stream",
     "text": [
      "CPU times: user 103 µs, sys: 18 µs, total: 121 µs\n",
      "Wall time: 121 µs\n"
     ]
    },
    {
     "data": {
      "text/plain": "array([[3.31662479, 5.38516481, 3.74165739],\n       [7.        , 9.53939201, 6.4807407 ],\n       [5.65685425, 3.74165739, 5.38516481]])"
     },
     "execution_count": 104,
     "metadata": {},
     "output_type": "execute_result"
    }
   ],
   "source": [
    "%%time\n",
    "scipy.spatial.distance.cdist(X, Y)#3"
   ],
   "metadata": {
    "collapsed": false
   }
  },
  {
   "cell_type": "markdown",
   "id": "973e8064",
   "metadata": {},
   "source": [
    "_______\n",
    "________"
   ]
  },
  {
   "cell_type": "markdown",
   "id": "1104acb7",
   "metadata": {},
   "source": [
    "* #### __Задача 6__: CrunchieMunchies __*__\n",
    "\n",
    "Вы работаете в отделе маркетинга пищевой компании MyCrunch, которая разрабатывает новый вид вкусных, полезных злаков под названием **CrunchieMunchies**.\n",
    "\n",
    "Вы хотите продемонстрировать потребителям, насколько полезны ваши хлопья по сравнению с другими ведущими брендами, поэтому вы собрали данные о питании нескольких разных конкурентов.\n",
    "\n",
    "Ваша задача - использовать вычисления Numpy для анализа этих данных и доказать, что ваши **СrunchieMunchies** - самый здоровый выбор для потребителей.\n"
   ]
  },
  {
   "cell_type": "code",
   "execution_count": 1,
   "id": "10a77f8d",
   "metadata": {},
   "outputs": [],
   "source": [
    "import numpy as np"
   ]
  },
  {
   "cell_type": "markdown",
   "id": "ab87cb03",
   "metadata": {},
   "source": [
    "1. Просмотрите файл cereal.csv. Этот файл содержит количества калорий для различных марок хлопьев. Загрузите данные из файла и сохраните их как calorie_stats."
   ]
  },
  {
   "cell_type": "code",
   "execution_count": 2,
   "id": "9681ebf2",
   "metadata": {},
   "outputs": [
    {
     "data": {
      "text/plain": "array([ 70., 120.,  70.,  50., 110., 110., 110., 130.,  90.,  90., 120.,\n       110., 120., 110., 110., 110., 100., 110., 110., 110., 100., 110.,\n       100., 100., 110., 110., 100., 120., 120., 110., 100., 110., 100.,\n       110., 120., 120., 110., 110., 110., 140., 110., 100., 110., 100.,\n       150., 150., 160., 100., 120., 140.,  90., 130., 120., 100.,  50.,\n        50., 100., 100., 120., 100.,  90., 110., 110.,  80.,  90.,  90.,\n       110., 110.,  90., 110., 140., 100., 110., 110., 100., 100., 110.])"
     },
     "execution_count": 2,
     "metadata": {},
     "output_type": "execute_result"
    }
   ],
   "source": [
    "calorie_stats = np.loadtxt(\"./data/cereal.csv\", delimiter=\",\")\n",
    "calorie_stats"
   ]
  },
  {
   "cell_type": "markdown",
   "id": "139cfbd8",
   "metadata": {},
   "source": [
    "2. В одной порции CrunchieMunchies содержится 60 калорий. Насколько выше среднее количество калорий у ваших конкурентов?\n",
    "\n",
    "Сохраните ответ в переменной average_calories и распечатайте переменную в терминале"
   ]
  },
  {
   "cell_type": "code",
   "execution_count": 5,
   "id": "7036d240",
   "metadata": {},
   "outputs": [
    {
     "data": {
      "text/plain": "46.883116883116884"
     },
     "execution_count": 5,
     "metadata": {},
     "output_type": "execute_result"
    }
   ],
   "source": [
    "average_calories = calorie_stats.mean() - 60\n",
    "average_calories"
   ]
  },
  {
   "cell_type": "markdown",
   "id": "b2ddb4cd",
   "metadata": {},
   "source": [
    "3. Корректно ли среднее количество калорий отражает распределение набора данных? Давайте отсортируем данные и посмотрим.\n",
    "\n",
    "Отсортируйте данные и сохраните результат в переменной calorie_stats_sorted. Распечатайте отсортированную информацию"
   ]
  },
  {
   "cell_type": "code",
   "execution_count": 16,
   "id": "46eeb4ed",
   "metadata": {},
   "outputs": [
    {
     "data": {
      "text/plain": "[50.0,\n 50.0,\n 50.0,\n 70.0,\n 70.0,\n 80.0,\n 90.0,\n 90.0,\n 90.0,\n 90.0,\n 90.0,\n 90.0,\n 90.0,\n 100.0,\n 100.0,\n 100.0,\n 100.0,\n 100.0,\n 100.0,\n 100.0,\n 100.0,\n 100.0,\n 100.0,\n 100.0,\n 100.0,\n 100.0,\n 100.0,\n 100.0,\n 100.0,\n 100.0,\n 110.0,\n 110.0,\n 110.0,\n 110.0,\n 110.0,\n 110.0,\n 110.0,\n 110.0,\n 110.0,\n 110.0,\n 110.0,\n 110.0,\n 110.0,\n 110.0,\n 110.0,\n 110.0,\n 110.0,\n 110.0,\n 110.0,\n 110.0,\n 110.0,\n 110.0,\n 110.0,\n 110.0,\n 110.0,\n 110.0,\n 110.0,\n 110.0,\n 110.0,\n 120.0,\n 120.0,\n 120.0,\n 120.0,\n 120.0,\n 120.0,\n 120.0,\n 120.0,\n 120.0,\n 120.0,\n 130.0,\n 130.0,\n 140.0,\n 140.0,\n 140.0,\n 150.0,\n 150.0,\n 160.0]"
     },
     "execution_count": 16,
     "metadata": {},
     "output_type": "execute_result"
    }
   ],
   "source": [
    "# your code\n",
    "calorie_stats_sorted = sorted(calorie_stats)\n",
    "calorie_stats_sorted"
   ]
  },
  {
   "cell_type": "markdown",
   "id": "4dc74116",
   "metadata": {},
   "source": [
    "4. Похоже, что большинство значений выше среднего. Давайте посмотрим, является ли медиана наиболее корректным показателем набора данных.\n",
    "\n",
    "Вычислите медиану набора данных и сохраните свой ответ в median_calories. Выведите медиану, чтобы вы могли видеть, как она сравнивается со средним значением."
   ]
  },
  {
   "cell_type": "code",
   "execution_count": 19,
   "id": "b56627c3",
   "metadata": {},
   "outputs": [
    {
     "data": {
      "text/plain": "110.0"
     },
     "execution_count": 19,
     "metadata": {},
     "output_type": "execute_result"
    }
   ],
   "source": [
    "median_calories = np.median(calorie_stats_sorted)\n",
    "median_calories"
   ]
  },
  {
   "cell_type": "markdown",
   "id": "a63ab72f",
   "metadata": {},
   "source": [
    "5. В то время как медиана показывает, что по крайней мере половина наших значений составляет более 100 калорий, было бы более впечатляюще показать, что значительная часть конкурентов имеет более высокое количество калорий, чем CrunchieMunchies.\n",
    "\n",
    "Рассчитайте различные процентили и распечатайте их, пока не найдете наименьший процентиль, превышающий 60 калорий. Сохраните это значение в переменной nth_percentile."
   ]
  },
  {
   "cell_type": "code",
   "execution_count": 34,
   "id": "fe80ce03",
   "metadata": {},
   "outputs": [
    {
     "data": {
      "text/plain": "70.0"
     },
     "execution_count": 34,
     "metadata": {},
     "output_type": "execute_result"
    }
   ],
   "source": [
    "nth_percentile = np.percentile(calorie_stats, 4)\n",
    "nth_percentile"
   ]
  },
  {
   "cell_type": "markdown",
   "id": "a2a3c5aa",
   "metadata": {},
   "source": [
    "6. Хотя процентиль показывает нам, что у большинства конкурентов количество калорий намного выше, это неудобная концепция для использования в маркетинговых материалах.\n",
    "\n",
    "Вместо этого давайте подсчитаем процент хлопьев, в которых содержится более 60 калорий на порцию. Сохраните свой ответ в переменной more_calories и распечатайте его"
   ]
  },
  {
   "cell_type": "code",
   "execution_count": 40,
   "id": "ade0f6ea",
   "metadata": {},
   "outputs": [
    {
     "data": {
      "text/plain": "96.1038961038961"
     },
     "execution_count": 40,
     "metadata": {},
     "output_type": "execute_result"
    }
   ],
   "source": [
    "more_calories = len(calorie_stats[calorie_stats > 60])/len(calorie_stats)*100\n",
    "more_calories"
   ]
  },
  {
   "cell_type": "markdown",
   "id": "1735d65b",
   "metadata": {},
   "source": [
    "7. Это действительно высокий процент. Это будет очень полезно, когда мы будем продвигать CrunchieMunchies. Но один вопрос заключается в том, насколько велики различия в наборе данных? Можем ли мы сделать обобщение, что в большинстве злаков содержится около 100 калорий или разброс еще больше?\n",
    "\n",
    "Рассчитайте величину отклонения, найдя стандартное отклонение, Сохраните свой ответ в calorie_std и распечатайте на терминале. Как мы можем включить эту ценность в наш анализ?"
   ]
  },
  {
   "cell_type": "code",
   "execution_count": 41,
   "id": "85c8df1f",
   "metadata": {},
   "outputs": [
    {
     "data": {
      "text/plain": "19.35718533390827"
     },
     "execution_count": 41,
     "metadata": {},
     "output_type": "execute_result"
    }
   ],
   "source": [
    "calorie_std = np.std(calorie_stats)\n",
    "calorie_std"
   ]
  },
  {
   "cell_type": "markdown",
   "source": [
    " Стандартное отклонение отображает меру разброса данных, то есть, чем этот показатель выше, тем более разнообразны данные. Для бизнеса это значит, что на рынке представлены очень разнообразные хлопья, а наши хлопья занимают лидирующую позицию по меньшей калорийности. Ведь, если бы все конкуренты имели калорийность приблизительно как у нас, то этот показатель был бы намного меньше."
   ],
   "metadata": {
    "collapsed": false
   }
  },
  {
   "cell_type": "markdown",
   "id": "037455c5",
   "metadata": {},
   "source": [
    "8. Напишите короткий абзац, в котором кратко изложите свои выводы и то, как, по вашему мнению, эти данные могут быть использованы в интересах Mycrunch при маркетинге CrunchieMunchies."
   ]
  },
  {
   "cell_type": "markdown",
   "source": [
    "1. Если стандартное отклонение будет уменьшаться - значит у нас появляются конкуренты. С меньшей калорийностью хлопьев.\n",
    "2. Если средняя разность калорий конкурентов и наша стремится к нулю, то мы теряем лидерство.\n",
    "3. Чем меньше процентиль, тем лучше для нас.\n",
    "4. Процент хлопьев, в которых содержится более 60 калорий на порцию говорит сам за себя, его нужно максимизировать."
   ],
   "metadata": {
    "collapsed": false
   }
  },
  {
   "cell_type": "code",
   "execution_count": null,
   "outputs": [],
   "source": [],
   "metadata": {
    "collapsed": false
   }
  }
 ],
 "metadata": {
  "kernelspec": {
   "display_name": "Python 3 (ipykernel)",
   "language": "python",
   "name": "python3"
  },
  "language_info": {
   "codemirror_mode": {
    "name": "ipython",
    "version": 3
   },
   "file_extension": ".py",
   "mimetype": "text/x-python",
   "name": "python",
   "nbconvert_exporter": "python",
   "pygments_lexer": "ipython3",
   "version": "3.8.10"
  }
 },
 "nbformat": 4,
 "nbformat_minor": 5
}
